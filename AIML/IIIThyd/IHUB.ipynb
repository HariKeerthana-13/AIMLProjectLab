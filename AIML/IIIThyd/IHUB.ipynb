{
  "nbformat": 4,
  "nbformat_minor": 0,
  "metadata": {
    "colab": {
      "provenance": [],
      "authorship_tag": "ABX9TyPZU7YUGTzm6ufwy2zJ/bZ2",
      "include_colab_link": true
    },
    "kernelspec": {
      "name": "python3",
      "display_name": "Python 3"
    },
    "language_info": {
      "name": "python"
    }
  },
  "cells": [
    {
      "cell_type": "markdown",
      "metadata": {
        "id": "view-in-github",
        "colab_type": "text"
      },
      "source": [
        "<a href=\"https://colab.research.google.com/github/HariKeerthana-13/AIMLProjectLab/blob/main/AIML/IIIThyd/IHUB.ipynb\" target=\"_parent\"><img src=\"https://colab.research.google.com/assets/colab-badge.svg\" alt=\"Open In Colab\"/></a>"
      ]
    },
    {
      "cell_type": "code",
      "execution_count": 1,
      "metadata": {
        "id": "HDmlMX_j8gUw",
        "colab": {
          "base_uri": "https://localhost:8080/"
        },
        "outputId": "e8420746-debf-42ce-c0f0-7249839b2985"
      },
      "outputs": [
        {
          "output_type": "stream",
          "name": "stdout",
          "text": [
            "User Features (Mx1):\n",
            "[[0.8]\n",
            " [0.4]]\n",
            "\n",
            "Product Features (1xN):\n",
            "[[1.  0.5 0.2]]\n",
            "\n",
            "Interaction Matrix (MxN):\n",
            "[[0.8  0.4  0.16]\n",
            " [0.4  0.2  0.08]]\n"
          ]
        }
      ],
      "source": [
        "import numpy as np\n",
        "\n",
        "# Sample user features (Mx1 vector) - let's say 2 features\n",
        "user_features = np.array([[0.8],    # e.g., interest in sports\n",
        "                          [0.4]])   # e.g., interest in tech\n",
        "\n",
        "# Sample product features (1xN vector) - let's say 3 features\n",
        "product_features = np.array([[1.0, 0.5, 0.2]])  # e.g., price level, popularity, category match\n",
        "\n",
        "# Outer product to compute interaction matrix\n",
        "interaction_matrix = np.dot(user_features, product_features)\n",
        "\n",
        "# Display results\n",
        "print(\"User Features (Mx1):\")\n",
        "print(user_features)\n",
        "print(\"\\nProduct Features (1xN):\")\n",
        "print(product_features)\n",
        "print(\"\\nInteraction Matrix (MxN):\")\n",
        "print(interaction_matrix)\n"
      ]
    }
  ]
}